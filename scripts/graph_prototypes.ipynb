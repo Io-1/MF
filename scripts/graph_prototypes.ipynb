{
 "cells": [
  {
   "cell_type": "code",
   "execution_count": 1,
   "id": "ee72f57e",
   "metadata": {},
   "outputs": [],
   "source": [
    "import os\n",
    "from dotenv import load_dotenv, find_dotenv\n",
    "import psycopg2\n",
    "import datetime\n",
    "import re\n",
    "import locale\n",
    "import sys\n",
    "from itertools import product\n",
    "import time\n",
    "import ipycytoscape\n",
    "from ipycytoscape import CytoscapeWidget, Node, Edge"
   ]
  },
  {
   "cell_type": "code",
   "execution_count": 2,
   "id": "1b8e285f",
   "metadata": {},
   "outputs": [],
   "source": [
    "conn = psycopg2.connect(\n",
    "    host=\"localhost\",\n",
    "    database=\"MF\",\n",
    "    user=\"dzukas\",\n",
    "    password=\"dzukas6\",\n",
    "    port=5432\n",
    ") \n",
    "\n",
    "cur = conn.cursor()"
   ]
  },
  {
   "cell_type": "code",
   "execution_count": null,
   "id": "156a2400",
   "metadata": {},
   "outputs": [],
   "source": [
    "pattern = \"ik.*ak.*au$\"\n",
    "\n",
    "cur.execute(f\"\"\"\n",
    "            SELECT word FROM dict\n",
    "             WHERE word ~ '{pattern}' AND trash is false\n",
    "\"\"\")\n",
    "nodes = cur.fetchall()\n",
    "nodes = tuple(node[0] for node in nodes)\n",
    "\n",
    "cyto = CytoscapeWidget()\n",
    "# cyto.layout.width  = '1000px'\n",
    "cyto.layout.height = '5000px'\n",
    "\n",
    "cyto.set_style([\n",
    "    {\n",
    "        'selector': 'node',\n",
    "        'style': {\n",
    "            'content': 'data(label)',\n",
    "            'text-valign': 'center',\n",
    "            'background-color': '#61bffc'\n",
    "        }\n",
    "    },\n",
    "    {\n",
    "        'selector': 'edge',\n",
    "        'style': {\n",
    "            'line-color': '#a3c4dc',\n",
    "            'width': 2\n",
    "        }\n",
    "    }\n",
    "])\n",
    "\n",
    "for u in nodes:\n",
    "    # on peut créer chaque noeud une seule fois, mais ça ne dupliquera pas  \n",
    "    cyto.graph.add_node(Node(data={\"id\": str(u), \"label\": str(u)}))\n",
    "    # cyto.graph.add_node(Node(data={\"id\": str(v), \"label\": str(v)}))\n",
    "    # cyto.graph.add_edge(Edge(data={\"source\": str(u), \"target\": str(v)}))\n",
    "\n",
    "# cyto.set_layout(name='grid')      # grille\n",
    "# cyto.set_layout(name='circle')  # cercle\n",
    "layout_opts = {\n",
    "    'name': 'grid',                 # grille\n",
    "    'fit': False,                    # ajuste le zoom pour couvrir tout le widget\n",
    "    'padding': 50,                  # marge autour du layout\n",
    "    'rows': 1,                   # nb de lignes\n",
    "    # 'cols': 5,                   # nb de colonnes\n",
    "    'avoidOverlap': True,           # empêche le chevauchement\n",
    "    'avoidOverlapPadding': 10,      # espace entre nœuds\n",
    "    'spacingFactor': 1.2,           # agrandit/comprime la grille\n",
    "    'condense': False               # répartit sur tout l’espace disponible\n",
    "}  # hiérarchique, etc.\n",
    "\n",
    "cyto"
   ]
  },
  {
   "cell_type": "code",
   "execution_count": 9,
   "id": "651b6108",
   "metadata": {},
   "outputs": [],
   "source": [
    "conn.rollback()"
   ]
  },
  {
   "cell_type": "code",
   "execution_count": 8,
   "id": "cf151bf0",
   "metadata": {},
   "outputs": [
    {
     "data": {
      "application/vnd.jupyter.widget-view+json": {
       "model_id": "bfbc378dd0dc4c098a663a95d0681fb8",
       "version_major": 2,
       "version_minor": 0
      },
      "text/plain": [
       "CytoscapeWidget(cytoscape_layout={'name': 'cola'}, cytoscape_style=[{'selector': 'node', 'style': {'content': …"
      ]
     },
     "metadata": {},
     "output_type": "display_data"
    }
   ],
   "source": [
    "\n",
    "cur.execute(\"\"\"\n",
    "            SELECT m1.morph, m2.morph\n",
    "            FROM relations AS mr\n",
    "            LEFT JOIN (\n",
    "            SELECT morph, id\n",
    "            FROM morphs\n",
    "            ) as m1\n",
    "            ON mr.m1_id = m1.id\n",
    "            LEFT JOIN (\n",
    "            SELECT morph, id\n",
    "            FROM morphs\n",
    "            ) as m2\n",
    "            ON mr.m2_id = m2.id\n",
    "            WHERE m1.morph = 'rožė' or m2.morph = 'rožė'\n",
    "            --or m1.morph ~ 'ož' or m2.morph = 'ož' \n",
    "\"\"\")\n",
    "edges = cur.fetchall()\n",
    "\n",
    "cyto = CytoscapeWidget()\n",
    "# cyto.layout.width  = '1000px'\n",
    "cyto.layout.height = '1000px'\n",
    "cyto.set_style([\n",
    "    {\n",
    "        'selector': 'node',\n",
    "        'style': {\n",
    "            'content': 'data(label)',\n",
    "            'text-valign': 'center',\n",
    "            'background-color': '#61bffc'\n",
    "        }\n",
    "    },\n",
    "    {\n",
    "        'selector': 'edge',\n",
    "        'style': {\n",
    "            'line-color': '#a3c4dc',\n",
    "            'width': 2\n",
    "        }\n",
    "    }\n",
    "])\n",
    "\n",
    "for u, v in edges:\n",
    "    # on peut créer chaque noeud une seule fois, mais ça ne dupliquera pas  \n",
    "    cyto.graph.add_node(Node(data={\"id\": str(u), \"label\": str(u)}))\n",
    "    cyto.graph.add_node(Node(data={\"id\": str(v), \"label\": str(v)}))\n",
    "    cyto.graph.add_edge(Edge(data={\"source\": str(u), \"target\": str(v)}))\n",
    "\n",
    "cyto"
   ]
  },
  {
   "cell_type": "code",
   "execution_count": 6,
   "id": "c347e817",
   "metadata": {},
   "outputs": [
    {
     "name": "stdout",
     "output_type": "stream",
     "text": [
      "graph.html\n"
     ]
    },
    {
     "data": {
      "text/html": [
       "\n",
       "        <iframe\n",
       "            width=\"100%\"\n",
       "            height=\"100vh\"\n",
       "            src=\"graph.html\"\n",
       "            frameborder=\"0\"\n",
       "            allowfullscreen\n",
       "            \n",
       "        ></iframe>\n",
       "        "
      ],
      "text/plain": [
       "<IPython.lib.display.IFrame at 0x204aeb62660>"
      ]
     },
     "execution_count": 6,
     "metadata": {},
     "output_type": "execute_result"
    }
   ],
   "source": [
    "import networkx as nx\n",
    "from pyvis.network import Network\n",
    "\n",
    "cur.execute(\"\"\"\n",
    "            SELECT m1.morph, m2.morph\n",
    "            FROM relations AS r\n",
    "            LEFT JOIN (\n",
    "            SELECT morph, id\n",
    "            FROM morphs\n",
    "            ) as m1\n",
    "            ON r.m1_id = m1.id\n",
    "            LEFT JOIN (\n",
    "            SELECT morph, id\n",
    "            FROM morphs\n",
    "            ) as m2\n",
    "            ON r.m2_id = m2.id\n",
    "            --WHERE m1.morph = 'tiktaktau' or m2.morph = 'tiktaktau' or m1.morph = 'ik.*ak.*au$' or m2.morph = 'ik.*ak.*au$'\n",
    "\"\"\")\n",
    "edges = cur.fetchall()\n",
    "\n",
    "G = nx.Graph()\n",
    "for edge in edges:\n",
    "    G.add_edge(edge[0], edge[1])\n",
    "\n",
    "net = Network(notebook=True, cdn_resources='remote', height=\"100vh\", width = \"100%\")\n",
    "net.from_nx(G)\n",
    "net.show(\"graph.html\")"
   ]
  }
 ],
 "metadata": {
  "kernelspec": {
   "display_name": "base",
   "language": "python",
   "name": "python3"
  },
  "language_info": {
   "codemirror_mode": {
    "name": "ipython",
    "version": 3
   },
   "file_extension": ".py",
   "mimetype": "text/x-python",
   "name": "python",
   "nbconvert_exporter": "python",
   "pygments_lexer": "ipython3",
   "version": "3.12.3"
  }
 },
 "nbformat": 4,
 "nbformat_minor": 5
}
